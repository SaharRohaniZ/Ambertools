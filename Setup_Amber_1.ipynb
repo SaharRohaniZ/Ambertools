{
  "nbformat": 4,
  "nbformat_minor": 0,
  "metadata": {
    "colab": {
      "name": "Setup-Amber-1.ipynb",
      "provenance": []
    },
    "kernelspec": {
      "display_name": "Python 3",
      "name": "python3"
    }
  },
  "cells": [
    {
      "cell_type": "code",
      "metadata": {
        "id": "NBww6Pc4e4AG"
      },
      "source": [
        "%%bash\r\n",
        "MINICONDA_INSTALLER_SCRIPT=Miniconda3-latest-Linux-x86_64.sh\r\n",
        "MINICONDA_PREFIX=/usr/local\r\n",
        "wget https://repo.continuum.io/miniconda/$MINICONDA_INSTALLER_SCRIPT\r\n",
        "chmod +x $MINICONDA_INSTALLER_SCRIPT\r\n",
        "./$MINICONDA_INSTALLER_SCRIPT -b -f -p $MINICONDA_PREFIX"
      ],
      "execution_count": null,
      "outputs": []
    },
    {
      "cell_type": "code",
      "metadata": {
        "id": "ky_515b6fKb9"
      },
      "source": [
        "#Verify Conda is installed by\r\n",
        "!/usr/local/bin/conda --version"
      ],
      "execution_count": null,
      "outputs": []
    },
    {
      "cell_type": "code",
      "metadata": {
        "id": "6D2ofWswfa3S"
      },
      "source": [
        "#Check python version\r\n",
        "!python -V"
      ],
      "execution_count": null,
      "outputs": []
    },
    {
      "cell_type": "code",
      "metadata": {
        "id": "TrxUMEtlfdAn"
      },
      "source": [
        "#If python_version does not equal required version of the Amber version you're using, then update it\r\n",
        "#e.g. Amber20 requires Python 3.9\r\n",
        "!conda install python=3.9"
      ],
      "execution_count": null,
      "outputs": []
    },
    {
      "cell_type": "code",
      "metadata": {
        "id": "4t5vIIM7ff5g"
      },
      "source": [
        "!python -V"
      ],
      "execution_count": null,
      "outputs": []
    },
    {
      "cell_type": "code",
      "metadata": {
        "id": "ZRizwJP12MfY"
      },
      "source": [
        "!conda create -y -q --name AmberTools20"
      ],
      "execution_count": null,
      "outputs": []
    },
    {
      "cell_type": "code",
      "metadata": {
        "id": "Yc7nCRnLfof8"
      },
      "source": [
        "#Create new Python environement and install Amber20 by:\r\n",
        "%%bash\r\n",
        "eval \"$(conda shell.bash hook)\" # copy conda command to shell\r\n",
        "conda activate AmberTools20\r\n",
        "conda env list\r\n",
        "conda install -c conda-forge ambertools=20"
      ],
      "execution_count": null,
      "outputs": []
    },
    {
      "cell_type": "code",
      "metadata": {
        "id": "p1WJ_j1smT2o"
      },
      "source": [
        "!conda info --envs"
      ],
      "execution_count": null,
      "outputs": []
    },
    {
      "cell_type": "code",
      "metadata": {
        "id": "uo1apBDpfs6S"
      },
      "source": [
        "#Add AmberTools executables from $AMBERHOME/bin to PATH for ease of use \r\n",
        "import os\r\n",
        "os.environ['AMBERHOME'] = \"/usr/local/envs/AmberTools20\"\r\n",
        "os.environ['PATH'] += os.pathsep + \"/usr/local/envs/AmberTools20/bin/\""
      ],
      "execution_count": 18,
      "outputs": []
    },
    {
      "cell_type": "code",
      "metadata": {
        "id": "gFGTGEXxgH_g"
      },
      "source": [
        "#Verify AMBERHOME listing any known directory for AmberTools20\r\n",
        "!ls $AMBERHOME/dat/leap/cmd"
      ],
      "execution_count": null,
      "outputs": []
    },
    {
      "cell_type": "code",
      "metadata": {
        "id": "q0gk5QApgLuH"
      },
      "source": [
        "import os"
      ],
      "execution_count": 20,
      "outputs": []
    },
    {
      "cell_type": "code",
      "metadata": {
        "id": "djb8U7TlgkJz"
      },
      "source": [
        "!ls /usr/local"
      ],
      "execution_count": null,
      "outputs": []
    },
    {
      "cell_type": "code",
      "metadata": {
        "id": "gDPN93_ZgonQ"
      },
      "source": [
        ""
      ],
      "execution_count": null,
      "outputs": []
    }
  ]
}